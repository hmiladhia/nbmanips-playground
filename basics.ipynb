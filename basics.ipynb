{
 "cells": [
  {
   "cell_type": "markdown",
   "id": "05c436d5",
   "metadata": {},
   "source": [
    "# I - Introduction"
   ]
  },
  {
   "cell_type": "code",
   "execution_count": null,
   "id": "d8ea5d47",
   "metadata": {},
   "outputs": [],
   "source": [
    "%pip install \"nbmanips>=1.3.*\""
   ]
  },
  {
   "cell_type": "code",
   "execution_count": 1,
   "id": "1f0a8847",
   "metadata": {},
   "outputs": [
    {
     "data": {
      "text/plain": [
       "'1.3.1'"
      ]
     },
     "execution_count": 1,
     "metadata": {},
     "output_type": "execute_result"
    }
   ],
   "source": [
    "import nbmanips\n",
    "\n",
    "nbmanips.__version__"
   ]
  },
  {
   "cell_type": "markdown",
   "id": "3cb35071",
   "metadata": {},
   "source": [
    "## 1 - Reading a notebook"
   ]
  },
  {
   "cell_type": "code",
   "execution_count": 17,
   "id": "4d260342",
   "metadata": {},
   "outputs": [],
   "source": [
    "from nbmanips import IPYNB\n",
    "\n",
    "nb = IPYNB('nb.ipynb')\n",
    "\n",
    "# Equivalently:\n",
    "from nbmanips import Notebook\n",
    "\n",
    "nb = Notebook.read_ipynb('nb.ipynb')"
   ]
  },
  {
   "cell_type": "markdown",
   "id": "3e29d453",
   "metadata": {},
   "source": [
    "## 2 - Notebook Preview"
   ]
  },
  {
   "cell_type": "code",
   "execution_count": 18,
   "id": "2ffbef2d",
   "metadata": {},
   "outputs": [
    {
     "name": "stdout",
     "output_type": "stream",
     "text": [
      "# nbmanips Demo\n",
      "## Images\n",
      "┌─────────────────────────────────────────────────────────────────────────────┐\n",
      "│ from IPython.display import Image                                           │\n",
      "└─────────────────────────────────────────────────────────────────────────────┘\n",
      "┌─────────────────────────────────────────────────────────────────────────────┐\n",
      "│ pil_img = Image(filename='python.png')                                      │\n",
      "│ display(pil_img)                                                            │\n",
      "└─────────────────────────────────────────────────────────────────────────────┘\n",
      "<IPython.core.display.Image object>\n",
      "┌─────────────────────────────────────────────────────────────────────────────┐\n",
      "└─────────────────────────────────────────────────────────────────────────────┘\n"
     ]
    }
   ],
   "source": [
    "nb.show()"
   ]
  },
  {
   "cell_type": "markdown",
   "id": "1147944e",
   "metadata": {},
   "source": [
    "**Preview a notebook but with style**"
   ]
  },
  {
   "cell_type": "code",
   "execution_count": 19,
   "id": "4f70ac4a",
   "metadata": {},
   "outputs": [
    {
     "name": "stdout",
     "output_type": "stream",
     "text": [
      "# nbmanips Demo\n",
      "## Images\n",
      "╔══════════════════════════════════════════════════════════════════════════════════════════════════╗\n",
      "║ from IPython.display import Image                                                                ║\n",
      "╚══════════════════════════════════════════════════════════════════════════════════════════════════╝\n",
      "╔══════════════════════════════════════════════════════════════════════════════════════════════════╗\n",
      "║ pil_img = Image(filename='python.png')                                                           ║\n",
      "║ display(pil_img)                                                                                 ║\n",
      "╚══════════════════════════════════════════════════════════════════════════════════════════════════╝\n",
      "╔══════════════════════════════════════════════════════════════════════════════════════════════════╗\n",
      "╚══════════════════════════════════════════════════════════════════════════════════════════════════╝\n"
     ]
    }
   ],
   "source": [
    "# Possible values for style: ['single', 'double', 'grid', 'separated', 'rounded', 'dots', 'simple', 'copy']\n",
    "nb.show(style='double', width=100, exclude_output=True)"
   ]
  },
  {
   "cell_type": "markdown",
   "id": "8a2ca2e5",
   "metadata": {},
   "source": [
    "## 3 - Meet Filters"
   ]
  },
  {
   "cell_type": "markdown",
   "id": "d0ad6096",
   "metadata": {},
   "source": [
    "### 3.1 - Select using indexes"
   ]
  },
  {
   "cell_type": "code",
   "execution_count": 20,
   "id": "3f147fb0",
   "metadata": {},
   "outputs": [
    {
     "name": "stdout",
     "output_type": "stream",
     "text": [
      "# nbmanips Demo\n",
      "## Images\n"
     ]
    }
   ],
   "source": [
    "# Show a specific cell using its index\n",
    "nb[0].show()"
   ]
  },
  {
   "cell_type": "code",
   "execution_count": 21,
   "id": "64e58f64",
   "metadata": {},
   "outputs": [
    {
     "name": "stdout",
     "output_type": "stream",
     "text": [
      "# nbmanips Demo\n",
      "## Images\n",
      "┌─────────────────────────────────────────────────────────────────────────────┐\n",
      "│ from IPython.display import Image                                           │\n",
      "└─────────────────────────────────────────────────────────────────────────────┘\n"
     ]
    }
   ],
   "source": [
    "# Show the first and second cells\n",
    "nb[:2].show()"
   ]
  },
  {
   "cell_type": "code",
   "execution_count": 22,
   "id": "fc6e3ac6",
   "metadata": {},
   "outputs": [
    {
     "name": "stdout",
     "output_type": "stream",
     "text": [
      "┌─────────────────────────────────────────────────────────────────────────────┐\n",
      "└─────────────────────────────────────────────────────────────────────────────┘\n"
     ]
    }
   ],
   "source": [
    "# Show The last cell\n",
    "nb[-1:].show()"
   ]
  },
  {
   "cell_type": "markdown",
   "id": "b391537c",
   "metadata": {},
   "source": [
    "### 3.2 - Select using predefined selectors"
   ]
  },
  {
   "cell_type": "code",
   "execution_count": 23,
   "id": "8032810b",
   "metadata": {},
   "outputs": [
    {
     "name": "stdout",
     "output_type": "stream",
     "text": [
      "┌─────────────────────────────────────────────────────────────────────────────┐\n",
      "│ from IPython.display import Image                                           │\n",
      "└─────────────────────────────────────────────────────────────────────────────┘\n",
      "┌─────────────────────────────────────────────────────────────────────────────┐\n",
      "│ pil_img = Image(filename='python.png')                                      │\n",
      "│ display(pil_img)                                                            │\n",
      "└─────────────────────────────────────────────────────────────────────────────┘\n",
      "<IPython.core.display.Image object>\n",
      "┌─────────────────────────────────────────────────────────────────────────────┐\n",
      "└─────────────────────────────────────────────────────────────────────────────┘\n"
     ]
    }
   ],
   "source": [
    "# Show Code Cells\n",
    "nb.select('code_cells').show()"
   ]
  },
  {
   "cell_type": "code",
   "execution_count": 24,
   "id": "926afa8d",
   "metadata": {},
   "outputs": [
    {
     "name": "stdout",
     "output_type": "stream",
     "text": [
      "┌─────────────────────────────────────────────────────────────────────────────┐\n",
      "│ pil_img = Image(filename='python.png')                                      │\n",
      "│ display(pil_img)                                                            │\n",
      "└─────────────────────────────────────────────────────────────────────────────┘\n",
      "<IPython.core.display.Image object>\n"
     ]
    }
   ],
   "source": [
    "# Show Cells containing the equal sign\n",
    "nb.select(\n",
    "    'contains',\n",
    "    '=',\n",
    "    case=False,  # case sensitive search\n",
    "    regex=False, # use regular expressions\n",
    "    output=False,  # use cell output in the search\n",
    ").show()"
   ]
  },
  {
   "cell_type": "markdown",
   "id": "dc2675da",
   "metadata": {},
   "source": [
    "### 3.3 - Select using user defined functions"
   ]
  },
  {
   "cell_type": "code",
   "execution_count": 25,
   "id": "1a661a9a",
   "metadata": {},
   "outputs": [
    {
     "name": "stdout",
     "output_type": "stream",
     "text": [
      "┌─────────────────────────────────────────────────────────────────────────────┐\n",
      "│ pil_img = Image(filename='python.png')                                      │\n",
      "│ display(pil_img)                                                            │\n",
      "└─────────────────────────────────────────────────────────────────────────────┘\n",
      "<IPython.core.display.Image object>\n"
     ]
    }
   ],
   "source": [
    "from nbmanips.cell import Cell\n",
    "\n",
    "# A simple function might do\n",
    "def my_filter(cell: Cell) -> bool:\n",
    "    \"\"\"\n",
    "        Show Cells with length > 50\n",
    "    \"\"\"\n",
    "    \n",
    "    return len(cell.source) > 50\n",
    "\n",
    "nb.select(my_filter).show()"
   ]
  },
  {
   "cell_type": "code",
   "execution_count": 11,
   "id": "805acc3b",
   "metadata": {},
   "outputs": [
    {
     "name": "stdout",
     "output_type": "stream",
     "text": [
      "┌─────────────────────────────────────────────────────────────────────────────┐\n",
      "│ pil_img = Image(filename='python.png')                                      │\n",
      "│ display(pil_img)                                                            │\n",
      "└─────────────────────────────────────────────────────────────────────────────┘\n",
      "<IPython.core.display.Image object>\n"
     ]
    }
   ],
   "source": [
    "# Or Simply use a lambda expression\n",
    "nb.select(lambda cell: len(cell.source) > 50).show()"
   ]
  },
  {
   "cell_type": "markdown",
   "id": "9669075a",
   "metadata": {},
   "source": [
    "### 3.4 - Combining filters"
   ]
  },
  {
   "cell_type": "code",
   "execution_count": 26,
   "id": "be92c5ed",
   "metadata": {},
   "outputs": [
    {
     "name": "stdout",
     "output_type": "stream",
     "text": [
      "┌─────────────────────────────────────────────────────────────────────────────┐\n",
      "└─────────────────────────────────────────────────────────────────────────────┘\n"
     ]
    }
   ],
   "source": [
    "# Show Empty Code Cells\n",
    "nb.select(['code_cells', 'is_empty']).show()"
   ]
  },
  {
   "cell_type": "code",
   "execution_count": 29,
   "id": "8a2d8108",
   "metadata": {},
   "outputs": [
    {
     "name": "stdout",
     "output_type": "stream",
     "text": [
      "# nbmanips Demo\n",
      "## Images\n",
      "┌─────────────────────────────────────────────────────────────────────────────┐\n",
      "└─────────────────────────────────────────────────────────────────────────────┘\n"
     ]
    }
   ],
   "source": [
    "# Show Markdown or empty cells\n",
    "nb.select(['markdown_cells', 'is_empty'], type='or').show()"
   ]
  },
  {
   "cell_type": "code",
   "execution_count": 31,
   "id": "8131883b",
   "metadata": {},
   "outputs": [
    {
     "name": "stdout",
     "output_type": "stream",
     "text": [
      "┌─────────────────────────────────────────────────────────────────────────────┐\n",
      "└─────────────────────────────────────────────────────────────────────────────┘\n"
     ]
    }
   ],
   "source": [
    "# Show Empty Code Cells by chaining select statements\n",
    "nb.select('code_cells').select('is_empty').show()"
   ]
  },
  {
   "cell_type": "code",
   "execution_count": 37,
   "id": "d27056a9",
   "metadata": {},
   "outputs": [
    {
     "name": "stdout",
     "output_type": "stream",
     "text": [
      "# nbmanips Demo\n",
      "## Images\n",
      "┌─────────────────────────────────────────────────────────────────────────────┐\n",
      "│ from IPython.display import Image                                           │\n",
      "└─────────────────────────────────────────────────────────────────────────────┘\n",
      "┌─────────────────────────────────────────────────────────────────────────────┐\n",
      "└─────────────────────────────────────────────────────────────────────────────┘\n"
     ]
    }
   ],
   "source": [
    "# Invert Selection -> Show Cells that don't contain 'pil_img' keyword\n",
    "selection = ~nb.select('contains', 'pil_img')\n",
    "selection.show()"
   ]
  },
  {
   "cell_type": "code",
   "execution_count": 40,
   "id": "2588aaeb",
   "metadata": {},
   "outputs": [
    {
     "name": "stdout",
     "output_type": "stream",
     "text": [
      "┌─────────────────────────────────────────────────────────────────────────────┐\n",
      "│ from IPython.display import Image                                           │\n",
      "└─────────────────────────────────────────────────────────────────────────────┘\n",
      "┌─────────────────────────────────────────────────────────────────────────────┐\n",
      "└─────────────────────────────────────────────────────────────────────────────┘\n"
     ]
    }
   ],
   "source": [
    "# Combine Two Conditions: And\n",
    "selection = ~nb.select('contains', 'pil_img') & nb.select('code_cells')\n",
    "selection.show()"
   ]
  },
  {
   "cell_type": "code",
   "execution_count": 41,
   "id": "eeb80b89",
   "metadata": {},
   "outputs": [
    {
     "name": "stdout",
     "output_type": "stream",
     "text": [
      "# nbmanips Demo\n",
      "## Images\n",
      "┌─────────────────────────────────────────────────────────────────────────────┐\n",
      "│ pil_img = Image(filename='python.png')                                      │\n",
      "│ display(pil_img)                                                            │\n",
      "└─────────────────────────────────────────────────────────────────────────────┘\n",
      "<IPython.core.display.Image object>\n"
     ]
    }
   ],
   "source": [
    "\n",
    "# Combine Two Conditions: Or\n",
    "selection = nb.select('contains', 'pil_img') | nb.select('markdown_cells')\n",
    "selection.show()"
   ]
  },
  {
   "cell_type": "markdown",
   "id": "cd9cf576",
   "metadata": {},
   "source": [
    "# II - Searching through multiple notebooks"
   ]
  },
  {
   "cell_type": "code",
   "execution_count": 42,
   "id": "38d55aff",
   "metadata": {},
   "outputs": [],
   "source": [
    "from pathlib import Path\n",
    "from nbmanips import IPYNB\n",
    "\n",
    "# List All notebooks in the current working directory\n",
    "nb_paths = Path('machine_learning_complete').glob('**/*.ipynb')\n",
    "\n",
    "# Loading notebooks\n",
    "nbs = [IPYNB(nb_path) for nb_path in nb_paths]"
   ]
  },
  {
   "cell_type": "code",
   "execution_count": 75,
   "id": "f3c11dc1",
   "metadata": {},
   "outputs": [],
   "source": [
    "# Or a bit faster\n",
    "from concurrent.futures import ProcessPoolExecutor as Pool\n",
    "\n",
    "nb_paths = Path('machine_learning_complete').glob('**/*.ipynb')\n",
    "\n",
    "with Pool(4) as p:\n",
    "    nbs = list(p.map(IPYNB, nb_paths))"
   ]
  },
  {
   "cell_type": "code",
   "execution_count": 77,
   "id": "c9831d08",
   "metadata": {},
   "outputs": [
    {
     "name": "stdout",
     "output_type": "stream",
     "text": [
      "51.35% of notebooks use scikit-learn\n"
     ]
    }
   ],
   "source": [
    "# Filter Notebooks with select\n",
    "selected_nbs = [nb for nb in nbs if nb.select('code_cells').select('contains', 'sklearn').count()]\n",
    "print(f'{len(selected_nbs) / len(nbs)*100:.2f}% of notebooks use scikit-learn')"
   ]
  },
  {
   "cell_type": "code",
   "execution_count": null,
   "id": "554fa10d",
   "metadata": {},
   "outputs": [
    {
     "name": "stdout",
     "output_type": "stream",
     "text": [
      "--------------------\n",
      "9_ensemble_models\n",
      "┌─────────────────────────────────────────────────────────────────────────────┐\n",
      "│ from sklearn.metrics import accuracy_score                                  │\n",
      "│ def accuracy(model, data, labels):                                          │\n",
      "│     predictions = model.predict(data)                                       │\n",
      "│     acc = accuracy_score(labels, predictions)                               │\n",
      "│     return acc                                                              │\n",
      "└─────────────────────────────────────────────────────────────────────────────┘\n"
     ]
    }
   ],
   "source": [
    "# Printing Notebooks to the screen\n",
    "for nb in selected_nbs:\n",
    "    selection = nb.select('code_cells').select('contains', 'model.predict(data)')\n",
    "    if not selection.count():\n",
    "        continue\n",
    "    print('--' * 10)\n",
    "    print(nb.name)    \n",
    "    selection.show(exclude_output=True)"
   ]
  },
  {
   "cell_type": "code",
   "execution_count": null,
   "id": "6700d516",
   "metadata": {},
   "outputs": [],
   "source": []
  }
 ],
 "metadata": {
  "kernelspec": {
   "display_name": "Python 3.7.4 ('base')",
   "language": "python",
   "name": "python3"
  },
  "language_info": {
   "codemirror_mode": {
    "name": "ipython",
    "version": 3
   },
   "file_extension": ".py",
   "mimetype": "text/x-python",
   "name": "python",
   "nbconvert_exporter": "python",
   "pygments_lexer": "ipython3",
   "version": "3.7.4"
  },
  "vscode": {
   "interpreter": {
    "hash": "19d1d53a962d236aa061289c2ac16dc8e6d9648c89fe79f459ae9a3493bc67b4"
   }
  }
 },
 "nbformat": 4,
 "nbformat_minor": 5
}
